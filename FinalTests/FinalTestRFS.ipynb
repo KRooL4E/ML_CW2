{
 "cells": [
  {
   "cell_type": "markdown",
   "metadata": {},
   "source": [
    "## Relapse-free Survival Time (RFS) Regression Model\n",
    "\n",
    "This Jupyter Notebook file contains the FINAL ML model to estimate RFS time. This script produces a .csv file that contains the predicted output for each patient (column 1 is patient ID, column 2 is RFS outcome prediction). MSE will be used to evaluate the prediction"
   ]
  },
  {
   "cell_type": "markdown",
   "metadata": {},
   "source": [
    "## Please don't use this until we have decided on a final ML model!"
   ]
  }
 ],
 "metadata": {
  "language_info": {
   "name": "python"
  }
 },
 "nbformat": 4,
 "nbformat_minor": 2
}
