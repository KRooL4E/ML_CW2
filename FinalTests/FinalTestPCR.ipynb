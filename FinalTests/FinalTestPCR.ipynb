{
 "cells": [
  {
   "cell_type": "markdown",
   "metadata": {},
   "source": [
    "## Pathological Response Time (PCR) Classification Model\n",
    "\n",
    "This Jupyter Notebook file runs the FINAL ML model to classify PCR for breast cancer. This script produces a .csv file that contains the predicted output for each patient (column 1 is patient ID, column 2 is PCR outcome prediction). Balanced Classification accuracy will be used to evaluate PCR prediction accuracy."
   ]
  },
  {
   "cell_type": "markdown",
   "metadata": {},
   "source": [
    "## Please don't use this until we have decided on a final model!"
   ]
  }
 ],
 "metadata": {
  "language_info": {
   "name": "python"
  }
 },
 "nbformat": 4,
 "nbformat_minor": 2
}
